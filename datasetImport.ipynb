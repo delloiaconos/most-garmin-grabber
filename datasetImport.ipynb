{
 "cells": [
  {
   "cell_type": "markdown",
   "metadata": {},
   "source": [
    "# GiroE GARMIN Dataset Analysis"
   ]
  },
  {
   "cell_type": "markdown",
   "metadata": {},
   "source": [
    "## 1. Import dataset (from pickle)"
   ]
  },
  {
   "cell_type": "code",
   "execution_count": 5,
   "metadata": {},
   "outputs": [],
   "source": [
    "import pandas as pd\n",
    "import os, json\n",
    "from datetime import timedelta\n",
    "\n",
    "DATADIR = \"GarminRawData\""
   ]
  },
  {
   "cell_type": "code",
   "execution_count": 6,
   "metadata": {},
   "outputs": [],
   "source": [
    "import pickle\n",
    "\n",
    "with open( \"garmin_df.pk\", \"rb\" ) as fr:\n",
    "    garmin_df = pickle.load( fr )"
   ]
  },
  {
   "cell_type": "code",
   "execution_count": null,
   "metadata": {},
   "outputs": [],
   "source": [
    "garmin_df.shape, garmin_df.columns, garmin_df.device.unique()"
   ]
  },
  {
   "cell_type": "markdown",
   "metadata": {},
   "source": [
    "## 2. Dataset Analysis"
   ]
  },
  {
   "cell_type": "markdown",
   "metadata": {},
   "source": [
    "### Export some statistics on data data usage"
   ]
  },
  {
   "cell_type": "code",
   "execution_count": 8,
   "metadata": {},
   "outputs": [],
   "source": [
    "garmin_df.groupby([\"day\", \"device\"]).timestamp.min().to_csv( \"min.csv\" )\n",
    "garmin_df.groupby([\"day\", \"device\"]).timestamp.max().to_csv( \"max.csv\" )\n",
    "garmin_df.groupby([\"day\", \"device\"]).timestamp.count().to_csv( \"count.csv\" )"
   ]
  },
  {
   "cell_type": "markdown",
   "metadata": {},
   "source": [
    "## 3. Dataset Filtering"
   ]
  },
  {
   "cell_type": "markdown",
   "metadata": {},
   "source": [
    "### Drop data outside race time"
   ]
  },
  {
   "cell_type": "code",
   "execution_count": 9,
   "metadata": {},
   "outputs": [],
   "source": [
    "THRESH_SEC = 1800\n",
    "\n",
    "GIROE_UTC = [\n",
    "    (\"2024-05-04T10:45:00\", \"2024-05-04T13:40:00\"),\n",
    "    (\"2024-05-05T12:45:00\", \"2024-05-05T14:00:00\"),\n",
    "    (\"2024-05-06T10:40:00\", \"2024-05-06T13:40:00\"),\n",
    "    (\"2024-05-07T09:45:00\", \"2024-05-07T14:00:00\"),\n",
    "    (\"2024-05-08T11:00:00\", \"2024-05-08T14:00:00\"),\n",
    "    (\"2024-05-09T10:25:00\", \"2024-05-09T13:16:00\"),\n",
    "    (\"2024-05-10T09:20:00\", \"2024-05-10T10:46:00\"),\n",
    "    (\"2024-05-11T09:50:00\", \"2024-05-11T13:05:00\"),\n",
    "    (\"2024-05-12T11:07:00\", \"2024-05-12T13:20:00\"),\n",
    "    (\"2024-05-14T09:10:00\", \"2024-05-14T13:30:00\"),\n",
    "    (\"2024-05-15T11:10:00\", \"2024-05-15T13:33:00\"),\n",
    "    (\"2024-05-16T10:40:00\", \"2024-05-16T13:50:00\"),\n",
    "    (\"2024-05-17T11:15:00\", \"2024-05-17T13:45:00\"),\n",
    "    (\"2024-05-18T09:10:00\", \"2024-05-18T11:00:00\"),\n",
    "    (\"2024-05-19T09:45:00\", \"2024-05-19T13:45:00\"),\n",
    "    (\"2024-05-21T10:55:00\", \"2024-05-21T13:20:00\"),\n",
    "    (\"2024-05-22T10:15:00\", \"2024-05-22T13:50:00\"),\n",
    "    (\"2024-05-23T10:40:00\", \"2024-05-23T13:55:00\"),\n",
    "    (\"2024-05-24T10:40:00\", \"2024-05-24T13:26:00\"),\n",
    "    (\"2024-05-26T11:40:00\", \"2024-05-26T13:10:00\"),\n",
    "]\n",
    "\n",
    "# utc_limits = pd.DataFrame.from_dict(GIROE_UTC)\n",
    "# utc_limits[1]=utc_limits[1].swifter.apply(lambda x: (pd.to_datetime(x)+timedelta(hours=2)).isoformat())\n",
    "# utc_limits"
   ]
  },
  {
   "cell_type": "markdown",
   "metadata": {},
   "source": [
    "Filtering session shorter than THRESH_SEC points"
   ]
  },
  {
   "cell_type": "code",
   "execution_count": null,
   "metadata": {},
   "outputs": [],
   "source": [
    "counts = garmin_df.groupby([\"device\", \"session\"]).count()\n",
    "sessions_invalid = counts.loc[counts.timestamp < THRESH_SEC].index.get_level_values(\n",
    "    \"session\"\n",
    ")\n",
    "sessions_invalid"
   ]
  },
  {
   "cell_type": "markdown",
   "metadata": {},
   "source": [
    "Get only race points"
   ]
  },
  {
   "cell_type": "code",
   "execution_count": null,
   "metadata": {},
   "outputs": [],
   "source": [
    "giroe_df = pd.concat(\n",
    "    [\n",
    "        garmin_df.loc[\n",
    "            (garmin_df.timestamp >= GIROE_UTC[i][0])\n",
    "            & (garmin_df.timestamp <= GIROE_UTC[i][1])\n",
    "        ]\n",
    "        for i in range(len(GIROE_UTC))\n",
    "    ]\n",
    ")\n",
    "\n",
    "giroe_df.drop(\n",
    "    index=giroe_df.loc[~(giroe_df.day == giroe_df.timestamp.dt.day)].index, inplace=True\n",
    ")\n",
    "\n",
    "giroe_df.shape"
   ]
  },
  {
   "cell_type": "markdown",
   "metadata": {},
   "source": [
    "Save some statistics."
   ]
  },
  {
   "cell_type": "code",
   "execution_count": 12,
   "metadata": {},
   "outputs": [],
   "source": [
    "giroe_df.groupby([\"day\", \"device\"]).timestamp.min().to_csv( \"giroe_min.csv\" )\n",
    "giroe_df.groupby([\"day\", \"device\"]).timestamp.max().to_csv( \"giroe_max.csv\" )\n",
    "giroe_df.groupby([\"day\", \"device\"]).timestamp.count().to_csv( \"giroe_count.csv\" )"
   ]
  },
  {
   "cell_type": "markdown",
   "metadata": {},
   "source": [
    "### Export Filtered data"
   ]
  },
  {
   "cell_type": "code",
   "execution_count": null,
   "metadata": {},
   "outputs": [],
   "source": [
    "display(giroe_df.columns)\n",
    "\n",
    "ExportColumns = [\n",
    "        \"device\",\n",
    "        \"session\",\n",
    "        \"timestamp\",\n",
    "        \"position_lat\",\n",
    "        \"position_long\",\n",
    "        \"distance\",\n",
    "        \"enhanced_altitude\",\n",
    "        # \"unknown_87\",\n",
    "        # \"unknown_141\",\n",
    "        \"heart_rate\",\n",
    "        # \"cadence\",\n",
    "        # \"fractional_cadence\",\n",
    "        # \"unknown_107\",\n",
    "        # \"unknown_135\",\n",
    "        # \"unknown_136\",\n",
    "        # \"unknown_143\",\n",
    "        \"SystemBattery\",\n",
    "        \"PositionLatitude\",\n",
    "        \"PositionLongitude\",\n",
    "        \"PositionAltitude\",\n",
    "        \"PositionSpeed\",\n",
    "        \"PositionHeading\",\n",
    "        \"PositionAccuracy\",\n",
    "        \"SensorAltitude\",\n",
    "        \"SensorSpeed\",\n",
    "        \"SensorHeading\",\n",
    "        \"SensorPressure\",\n",
    "        \"SensorAccelerationX_HD\",\n",
    "        \"SensorAccelerationY_HD\",\n",
    "        \"SensorAccelerationZ_HD\",\n",
    "        \"SensorHeartrate\",\n",
    "        \"SensorTemperature\",\n",
    "        \"enhanced_speed\",\n",
    "        # \"day\",\n",
    "        # \"unknown_137\",\n",
    "        # \"unknown_138\",\n",
    "\n",
    "    ]"
   ]
  },
  {
   "cell_type": "markdown",
   "metadata": {},
   "source": [
    "Export all the data to multiple CSV"
   ]
  },
  {
   "cell_type": "code",
   "execution_count": 14,
   "metadata": {},
   "outputs": [],
   "source": [
    "outputFolder = \"outputs\"\n",
    "\n",
    "if not os.path.exists( outputFolder ):\n",
    "    os.makedirs( outputFolder )\n",
    "\n",
    "# Export all\n",
    "giroe_df[ ExportColumns ].to_csv( os.path.join( outputFolder, 'giroe.csv' ), index=False )\n",
    "\n",
    "for day in giroe_df.day.unique():\n",
    "    devices = giroe_df.loc[giroe_df.day == day].device\n",
    "    for device in devices.unique():\n",
    "        fName = f'giroe_{day}_{device}.csv'\n",
    "        giroe_df.loc[ (giroe_df.day == day) & (giroe_df.day == day), ExportColumns ].to_csv( os.path.join( outputFolder, fName ), index=False )\n"
   ]
  }
 ],
 "metadata": {
  "kernelspec": {
   "display_name": "Python 3",
   "language": "python",
   "name": "python3"
  },
  "language_info": {
   "codemirror_mode": {
    "name": "ipython",
    "version": 3
   },
   "file_extension": ".py",
   "mimetype": "text/x-python",
   "name": "python",
   "nbconvert_exporter": "python",
   "pygments_lexer": "ipython3",
   "version": "3.11.11"
  }
 },
 "nbformat": 4,
 "nbformat_minor": 4
}
