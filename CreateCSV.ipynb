{
 "cells": [
  {
   "cell_type": "code",
   "execution_count": null,
   "metadata": {},
   "outputs": [],
   "source": [
    "import os\n",
    "from zipfile import ZipFile\n",
    "\n",
    "DATASET = \"./GarminRawData/\""
   ]
  },
  {
   "cell_type": "markdown",
   "metadata": {},
   "source": [
    "# Convert .fit to .json"
   ]
  },
  {
   "cell_type": "code",
   "execution_count": null,
   "metadata": {},
   "outputs": [],
   "source": [
    "files = []\n",
    "for dirName in os.listdir( DATASET ):\n",
    "\n",
    "    basedir = os.path.join( DATASET, dirName )\n",
    "    \n",
    "    if basedir[-4:] == \".zip\":\n",
    "        print( f\"\"\"Extracting: {basedir}\"\"\" )        \n",
    "        with ZipFile( basedir, 'r' ) as zipObj:\n",
    "            zipObj.extractall( DATASET )\n",
    "        basedir = basedir[:-4]\n",
    "        \n",
    "    if os.path.isdir( basedir ):\n",
    "        for fName in os.listdir( basedir ):\n",
    "            if fName[-4:] == \".fit\":\n",
    "                fName = os.path.join( basedir, fName )\n",
    "                print( f\"\"\"Converting file: {fName}\"\"\" )\n",
    "                os.system( f\"\"\"fitjson --pretty -o {fName[:-4]}.json {fName}\"\"\" )"
   ]
  },
  {
   "cell_type": "code",
   "execution_count": null,
   "metadata": {},
   "outputs": [],
   "source": [
    "files = []\n",
    "for dirName in os.listdir( DATASET ):\n",
    "\n",
    "    basedir = os.path.join( DATASET, dirName )\n",
    "\n",
    "    if os.path.isdir( basedir ):\n",
    "        for fName in os.listdir( basedir ):\n",
    "            if fName[-5:] == \".json\":\n",
    "                fName = os.path.join( basedir, fName )\n",
    "                print( f\"\"\"Found file: {fName}\"\"\" )\n",
    "                files.append( fName )"
   ]
  }
 ],
 "metadata": {
  "kernelspec": {
   "display_name": ".venv",
   "language": "python",
   "name": "python3"
  },
  "language_info": {
   "codemirror_mode": {
    "name": "ipython",
    "version": 3
   },
   "file_extension": ".py",
   "mimetype": "text/x-python",
   "name": "python",
   "nbconvert_exporter": "python",
   "pygments_lexer": "ipython3",
   "version": "3.10.9"
  }
 },
 "nbformat": 4,
 "nbformat_minor": 2
}
