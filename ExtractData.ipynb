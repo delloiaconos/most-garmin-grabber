{
 "cells": [
  {
   "cell_type": "code",
   "execution_count": null,
   "metadata": {},
   "outputs": [],
   "source": [
    "#from fit_tool.fit_file import FitFile\n",
    "#from fit_tool.fit_file import FitFile\n",
    "#from fit_tool.profile.messages.record_message import RecordMessage\n"
   ]
  },
  {
   "cell_type": "code",
   "execution_count": null,
   "metadata": {},
   "outputs": [],
   "source": [
    "from zipfile import ZipFile \n",
    "\n",
    "import os\n",
    "import pathlib \n",
    "print( os.getcwd() )\n"
   ]
  },
  {
   "cell_type": "code",
   "execution_count": null,
   "metadata": {},
   "outputs": [],
   "source": [
    "TEMPDIR = \"./temp\"\n",
    "ACTIVITYFILE = \"14943535791.zip\" \n",
    "with ZipFile( ACTIVITYFILE , 'r') as zipObj: \n",
    "    zipObj.extractall( path=TEMPDIR ) \n",
    "\n",
    "\n",
    "for fName in os.listdir( TEMPDIR ):\n",
    "    print( f\"\"\"Loading {fName}\"\"\" )\n",
    "\n",
    "    fitObj = FitFile.from_file( os.path.join( TEMPDIR, fName) )\n",
    "    timestamp1 = []\n",
    "    power1 = []\n",
    "    distance1 = []\n",
    "    speed1 = []\n",
    "    cadence1 = []\n",
    "    for record in fitObj.records:\n",
    "        message = record.message\n",
    "        if isinstance(message, RecordMessage):\n",
    "            timestamp1.append(message.timestamp)\n",
    "            distance1.append(message.distance)\n",
    "            power1.append(message.power)\n",
    "            speed1.append(message.speed)\n",
    "            cadence1.append(message.cadence)\n",
    "\n"
   ]
  },
  {
   "cell_type": "code",
   "execution_count": null,
   "metadata": {},
   "outputs": [],
   "source": [
    "import fitdecode\n",
    "\n",
    "\n",
    "with fitdecode.FitReader( os.path.join( TEMPDIR, fName) ) as fit:\n",
    "    for frame in fit:\n",
    "        # The yielded frame object is of one of the following types:\n",
    "        # * fitdecode.FitHeader (FIT_FRAME_HEADER)\n",
    "        # * fitdecode.FitDefinitionMessage (FIT_FRAME_DEFINITION)\n",
    "        # * fitdecode.FitDataMessage (FIT_FRAME_DATA)\n",
    "        # * fitdecode.FitCRC (FIT_FRAME_CRC)\n",
    "\n",
    "        if frame.frame_type == fitdecode.FIT_FRAME_DATA:\n",
    "            # Here, frame is a FitDataMessage object.\n",
    "            # A FitDataMessage object contains decoded values that\n",
    "            # are directly usable in your script logic.\n",
    "            print(frame.name)\n",
    "            if frame.name == \"record\":\n",
    "                print( \"record\" )\n",
    "            else:\n",
    "                print( \"else\" )"
   ]
  }
 ],
 "metadata": {
  "kernelspec": {
   "display_name": "Python 3",
   "language": "python",
   "name": "python3"
  },
  "language_info": {
   "codemirror_mode": {
    "name": "ipython",
    "version": 3
   },
   "file_extension": ".py",
   "mimetype": "text/x-python",
   "name": "python",
   "nbconvert_exporter": "python",
   "pygments_lexer": "ipython3",
   "version": "3.11.9"
  }
 },
 "nbformat": 4,
 "nbformat_minor": 2
}
