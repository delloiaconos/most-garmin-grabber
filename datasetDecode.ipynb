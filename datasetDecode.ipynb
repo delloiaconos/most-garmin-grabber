{
 "cells": [
  {
   "cell_type": "markdown",
   "metadata": {},
   "source": [
    "# GiroE GARMIN Dataset Decoding\n",
    "Conversion from \"json\" to pandas DataFrame \"garmin_df\" then pickle "
   ]
  },
  {
   "cell_type": "markdown",
   "metadata": {},
   "source": [
    "## 1. Decode files\n",
    "Convert from json to csv"
   ]
  },
  {
   "cell_type": "code",
   "execution_count": null,
   "metadata": {},
   "outputs": [],
   "source": [
    "import pandas as pd\n",
    "import os, json\n",
    "from datetime import timedelta\n",
    "\n",
    "DATADIR = \"GarminRawData\""
   ]
  },
  {
   "cell_type": "code",
   "execution_count": null,
   "metadata": {},
   "outputs": [],
   "source": [
    "def parse(fName):\n",
    "    try:\n",
    "        if fName.endswith( \".json\" ):\n",
    "            fName = fName[:-5]\n",
    "\n",
    "        df = pd.read_json(f\"{fName}.json\")\n",
    "        record_df = df.loc[(df[\"frame_type\"] == \"data_message\") & (df.name == \"record\")]\n",
    "        values_df = pd.concat(\n",
    "            [\n",
    "                pd.DataFrame.from_records(l)[[\"name\", \"value\"]]\n",
    "                .set_index(\"name\")\n",
    "                .transpose()\n",
    "                for l in record_df.fields\n",
    "            ]\n",
    "        )\n",
    "        if values_df.shape[0] != 0:\n",
    "            values_df.to_csv(f\"{fName}.csv\")\n",
    "            # values_df.to_excel(f\"{json_file[:-8]}xlsx\")\n",
    "            \n",
    "            stats = {}\n",
    "\n",
    "            values_df[\"timestamp\"] = pd.to_datetime(values_df[\"timestamp\"])\n",
    "            stats[\"data_filename\"] = fName\n",
    "            stats[\"t_start\"] = values_df.timestamp.min()\n",
    "            stats[\"t_stop\"] = values_df.timestamp.max()\n",
    "            stats[\"duration_sec\"] = stats[\"t_stop\"] - stats[\"t_start\"]\n",
    "\n",
    "            stats[\"t_start\"] = stats[\"t_start\"].isoformat()\n",
    "            stats[\"t_stop\"] = stats[\"t_stop\"].isoformat()\n",
    "            stats[\"duration_sec\"] = stats[\"duration_sec\"].total_seconds()\n",
    "\n",
    "            if stats[\"duration_sec\"] > 1800:\n",
    "                stats.update(\n",
    "                    pd.DataFrame.from_records(\n",
    "                        df.loc[\n",
    "                            (df.frame_type == \"data_message\") & (df.name == \"file_id\")\n",
    "                        ].fields.values[0]\n",
    "                    )[[\"name\", \"value\"]]\n",
    "                    .set_index(\"name\")\n",
    "                    .to_dict()[\"value\"]\n",
    "                )\n",
    "            with open(f\"{fName}-stat.json\", \"w\") as f:\n",
    "                json.dump(stats, f, indent=2)\n",
    "    except ValueError:\n",
    "        print(f\"No points in {fName}\")\n",
    "    except KeyError:\n",
    "        print(f\"Empty file {fName}\")"
   ]
  },
  {
   "cell_type": "code",
   "execution_count": null,
   "metadata": {},
   "outputs": [],
   "source": [
    "for f in os.walk(DATADIR):\n",
    "    dirName = f[0]\n",
    "    if os.path.isdir( dirName ):\n",
    "        for fName in f[2]:\n",
    "            if fName.endswith(\".json\"):\n",
    "                print( f\"PARSING {dirName}/{fName}\" )\n",
    "                parse( f\"{dirName}/{fName}\" )\n",
    "    "
   ]
  },
  {
   "cell_type": "markdown",
   "metadata": {},
   "source": [
    "## 2. Parse and Load all csv"
   ]
  },
  {
   "cell_type": "code",
   "execution_count": null,
   "metadata": {},
   "outputs": [],
   "source": [
    "import pandas as pd\n",
    "import os, json\n",
    "from datetime import timedelta\n",
    "\n",
    "DATADIR = \"GarminRawData\""
   ]
  },
  {
   "cell_type": "code",
   "execution_count": null,
   "metadata": {
    "editable": true,
    "slideshow": {
     "slide_type": ""
    },
    "tags": []
   },
   "outputs": [],
   "source": [
    "def load_csv( fName, device ):\n",
    "    df = pd.read_csv( fName )\n",
    "    df['timestamp'] = pd.to_datetime(df.timestamp)\n",
    "    if (df.timestamp.max() - df.timestamp.min()).total_seconds() > 1800:\n",
    "        df[\"device\"] = device\n",
    "        df['session'] = df.timestamp.min()\n",
    "        df['day'] = df.timestamp.min().day\n",
    "    else:\n",
    "        df=pd.DataFrame()\n",
    "    return df"
   ]
  },
  {
   "cell_type": "code",
   "execution_count": null,
   "metadata": {},
   "outputs": [],
   "source": [
    "garmin_df = pd.DataFrame()\n",
    "\n",
    "for f in os.walk(DATADIR):\n",
    "    dirName = f[0]\n",
    "    if os.path.isdir( dirName ):\n",
    "        for fName in f[2]:\n",
    "            if fName.endswith(\".csv\"):\n",
    "                print( f\"LOADING {dirName}/{fName}\" )\n",
    "                garmin_df = pd.concat( [garmin_df,  load_csv( f\"{dirName}/{fName}\", os.path.split(dirName)[-1] )] )\n",
    "    "
   ]
  },
  {
   "cell_type": "markdown",
   "metadata": {},
   "source": [
    "## 3. EXPORT to \"garmin_df.pk\""
   ]
  },
  {
   "cell_type": "code",
   "execution_count": null,
   "metadata": {},
   "outputs": [],
   "source": [
    "import pickle\n",
    "\n",
    "with open( \"garmin_df.pk\", \"wb\" ) as fw:\n",
    "    pickle.dump( garmin_df, fw )"
   ]
  }
 ],
 "metadata": {
  "kernelspec": {
   "display_name": "Python 3 (ipykernel)",
   "language": "python",
   "name": "python3"
  },
  "language_info": {
   "codemirror_mode": {
    "name": "ipython",
    "version": 3
   },
   "file_extension": ".py",
   "mimetype": "text/x-python",
   "name": "python",
   "nbconvert_exporter": "python",
   "pygments_lexer": "ipython3",
   "version": "3.10.9"
  }
 },
 "nbformat": 4,
 "nbformat_minor": 4
}
