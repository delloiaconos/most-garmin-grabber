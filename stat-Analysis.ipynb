{
 "cells": [
  {
   "cell_type": "markdown",
   "metadata": {},
   "source": [
    "# Stats Processing"
   ]
  },
  {
   "cell_type": "code",
   "execution_count": null,
   "metadata": {},
   "outputs": [],
   "source": [
    "import pandas as pd\n",
    "import os, json\n",
    "\n",
    "\n",
    "DATASET = \"./GarminRawData\""
   ]
  },
  {
   "cell_type": "code",
   "execution_count": null,
   "metadata": {},
   "outputs": [],
   "source": [
    "files = []\n",
    "for dirName in os.listdir( DATASET ):\n",
    "\n",
    "    basedir = os.path.join( DATASET, dirName )\n",
    "\n",
    "    if os.path.isdir( basedir ):\n",
    "        for fName in os.listdir( basedir ):\n",
    "            if fName[-10:] == \"-stat.json\":\n",
    "                fName = os.path.join( basedir, fName )\n",
    "                print( f\"\"\"Found file: {fName}\"\"\" )\n",
    "                files.append( fName )\n"
   ]
  },
  {
   "cell_type": "code",
   "execution_count": null,
   "metadata": {},
   "outputs": [],
   "source": [
    "data = []\n",
    "\n",
    "for fName in files:\n",
    "    data.append( json.load( open( fName, 'rt') ) )\n",
    "\n",
    "\n",
    "pd.DataFrame( data ).to_csv( \"GarminStats.csv\", index=False )"
   ]
  }
 ],
 "metadata": {
  "kernelspec": {
   "display_name": ".venv",
   "language": "python",
   "name": "python3"
  },
  "language_info": {
   "codemirror_mode": {
    "name": "ipython",
    "version": 3
   },
   "file_extension": ".py",
   "mimetype": "text/x-python",
   "name": "python",
   "nbconvert_exporter": "python",
   "pygments_lexer": "ipython3",
   "version": "3.10.9"
  }
 },
 "nbformat": 4,
 "nbformat_minor": 2
}
