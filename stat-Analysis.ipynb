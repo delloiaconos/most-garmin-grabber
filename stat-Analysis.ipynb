{
 "cells": [
  {
   "cell_type": "markdown",
   "metadata": {},
   "source": [
    "# Stats Processing"
   ]
  },
  {
   "cell_type": "code",
   "execution_count": null,
   "metadata": {},
   "outputs": [],
   "source": [
    "import pandas as pd\n",
    "import os, json\n",
    "\n",
    "DATASET = \"./GarminRawData\""
   ]
  },
  {
   "cell_type": "markdown",
   "metadata": {},
   "source": [
    "## Load data"
   ]
  },
  {
   "cell_type": "code",
   "execution_count": null,
   "metadata": {},
   "outputs": [],
   "source": [
    "files = []\n",
    "for dirName in os.listdir( DATASET ):\n",
    "\n",
    "    basedir = os.path.join( DATASET, dirName )\n",
    "\n",
    "    if os.path.isdir( basedir ):\n",
    "        for fName in os.listdir( basedir ):\n",
    "            if fName.endswith( \"-stat.json\" ):\n",
    "                fName = os.path.join( basedir, fName )\n",
    "                print( f\"\"\"Found file: {fName}\"\"\" )\n",
    "                files.append( fName )\n",
    "\n",
    "print( files )"
   ]
  },
  {
   "cell_type": "code",
   "execution_count": null,
   "metadata": {},
   "outputs": [],
   "source": [
    "data = []\n",
    "\n",
    "for fName in files:\n",
    "    print(fName)\n",
    "    try:\n",
    "        f=json.load( open( fName, 'rt') )\n",
    "        data.append(f)\n",
    "    except json.JSONDecodeError:\n",
    "        print(f\"{fName} vuoto\")"
   ]
  },
  {
   "cell_type": "code",
   "execution_count": null,
   "metadata": {},
   "outputs": [],
   "source": [
    "stat_df=pd.DataFrame.from_records(data)\n",
    "pd.DataFrame(stat_df).to_csv( \"GarminStats.csv\", index=False )"
   ]
  },
  {
   "cell_type": "code",
   "execution_count": null,
   "metadata": {},
   "outputs": [],
   "source": [
    "stat_df['day'] = pd.to_datetime(stat_df['t_start'].str[:10])\n",
    "stat_df['t_start'] = pd.to_datetime(stat_df['t_start'])\n",
    "stat_df['t_stop'] = pd.to_datetime(stat_df['t_stop'])\n",
    "stat_df['time_created'] = pd.to_datetime(stat_df['time_created'])"
   ]
  },
  {
   "cell_type": "code",
   "execution_count": null,
   "metadata": {},
   "outputs": [],
   "source": [
    "stat_df"
   ]
  },
  {
   "cell_type": "markdown",
   "metadata": {},
   "source": [
    "## Filtering\n",
    "### By duration"
   ]
  },
  {
   "cell_type": "code",
   "execution_count": null,
   "metadata": {},
   "outputs": [],
   "source": [
    "tresh_sec = 1800\n",
    "stat_df.loc[stat_df['duration_sec'] > tresh_sec].groupby('day').count()"
   ]
  },
  {
   "cell_type": "code",
   "execution_count": null,
   "metadata": {},
   "outputs": [],
   "source": [
    "stat_df=stat_df.loc[stat_df['duration_sec'] > tresh_sec]\n",
    "stat_df.shape"
   ]
  },
  {
   "cell_type": "markdown",
   "metadata": {},
   "source": [
    "### by t_start"
   ]
  },
  {
   "cell_type": "code",
   "execution_count": null,
   "metadata": {},
   "outputs": [],
   "source": [
    "stat_df=stat_df.loc[(stat_df['t_start'].dt.hour >= 8) & (stat_df['t_start'].dt.hour <= 11)]\n",
    "print(stat_df.shape)\n",
    "stat_df.groupby('day').count()"
   ]
  },
  {
   "cell_type": "code",
   "execution_count": null,
   "metadata": {},
   "outputs": [],
   "source": [
    "stat_df.loc[(stat_df['day'] == '2024-05-23') &(stat_df['duration_sec'] > tresh_sec)]"
   ]
  },
  {
   "cell_type": "code",
   "execution_count": null,
   "metadata": {},
   "outputs": [],
   "source": [
    "stat_df.to_csv('stats.csv')"
   ]
  },
  {
   "cell_type": "code",
   "execution_count": null,
   "metadata": {},
   "outputs": [],
   "source": [
    "stat_df[['serial_number', 'day', 'duration_sec']].pivot_table(columns='serial_number', index='day', aggfunc='sum').fillna(0).to_csv('duration_day_watch.csv')"
   ]
  }
 ],
 "metadata": {
  "kernelspec": {
   "display_name": ".venv",
   "language": "python",
   "name": "python3"
  },
  "language_info": {
   "codemirror_mode": {
    "name": "ipython",
    "version": 3
   },
   "file_extension": ".py",
   "mimetype": "text/x-python",
   "name": "python",
   "nbconvert_exporter": "python",
   "pygments_lexer": "ipython3",
   "version": "3.10.9"
  }
 },
 "nbformat": 4,
 "nbformat_minor": 2
}
