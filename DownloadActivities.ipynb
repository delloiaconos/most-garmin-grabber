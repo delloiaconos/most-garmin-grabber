{
 "cells": [
  {
   "cell_type": "code",
   "execution_count": null,
   "metadata": {},
   "outputs": [],
   "source": [
    "import json\n",
    "import logging\n",
    "import os\n",
    "from getpass import getpass\n",
    "import datetime\n",
    "\n",
    "from garminconnect import (\n",
    "    Garmin,\n",
    "    GarminConnectAuthenticationError,\n",
    "    GarminConnectConnectionError,\n",
    "    GarminConnectTooManyRequestsError,\n",
    ")\n"
   ]
  },
  {
   "cell_type": "code",
   "execution_count": null,
   "metadata": {},
   "outputs": [],
   "source": [
    "api = Garmin(\"USERNAME\", \"SECRETPASSWORD\")\n",
    "\n",
    "if api.login():\n",
    "    print( \"Login Success.\" )\n",
    "else:\n",
    "    print( \"ERROR: Login Failure!\" )"
   ]
  },
  {
   "cell_type": "code",
   "execution_count": null,
   "metadata": {},
   "outputs": [],
   "source": [
    "today = datetime.date.today()\n",
    "\n",
    "res = api.get_activities_fordate( today.isoformat() )\n",
    "print(json.dumps(res,indent=2))"
   ]
  },
  {
   "cell_type": "code",
   "execution_count": null,
   "metadata": {},
   "outputs": [],
   "source": [
    "\n",
    "for activity in res['ActivitiesForDay']['payload']:\n",
    "    if activity[\"activityId\"] is not None:\n",
    "        zip_data = api.download_activity( activity[\"activityId\"], dl_fmt=api.ActivityDownloadFormat.ORIGINAL )\n",
    "        output_file = f'./activity-{activity[\"activityId\"]}.zip'\n",
    "        with open(output_file, \"wb\") as fb:\n",
    "            fb.write(zip_data)\n",
    "        print(f\"Activity data downloaded to file {output_file}\")"
   ]
  },
  {
   "cell_type": "code",
   "execution_count": null,
   "metadata": {},
   "outputs": [],
   "source": []
  }
 ],
 "metadata": {
  "kernelspec": {
   "display_name": "Python 3",
   "language": "python",
   "name": "python3"
  },
  "language_info": {
   "codemirror_mode": {
    "name": "ipython",
    "version": 3
   },
   "file_extension": ".py",
   "mimetype": "text/x-python",
   "name": "python",
   "nbconvert_exporter": "python",
   "pygments_lexer": "ipython3",
   "version": "3.11.9"
  }
 },
 "nbformat": 4,
 "nbformat_minor": 2
}
